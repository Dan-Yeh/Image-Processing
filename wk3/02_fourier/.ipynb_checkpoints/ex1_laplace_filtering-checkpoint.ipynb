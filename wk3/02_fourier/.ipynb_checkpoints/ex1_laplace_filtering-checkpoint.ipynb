{
 "cells": [
  {
   "cell_type": "markdown",
   "metadata": {},
   "source": [
    "16.11.2020\n",
    "\n",
    "# Laplace filter in frequency domain\n",
    "\n",
    "## Tutorial 2, Exercise 1\n",
    "\n",
    "\n",
    "Your task in this exercise is to create your own implementation of a\n",
    "Laplace filter in Fourier space and apply it to an image.\n",
    "The formula for the Laplacian in the Fourier domain is:\n",
    "\n",
    "\n",
    "$$\n",
    "    L(u,v) = -4 \\cdot \\pi^2 \\cdot (u^2+v^2)\n",
    "$$\n",
    "\n",
    "\n",
    "Source: (Gonzalez, chapter 4, p286)\n",
    "\n",
    "**Task:** You need to replace the `???` in the code with the required commands"
   ]
  },
  {
   "cell_type": "code",
   "execution_count": null,
   "metadata": {
    "scrolled": true
   },
   "outputs": [],
   "source": [
    "import numpy as np\n",
    "import matplotlib.pyplot as plt"
   ]
  },
  {
   "cell_type": "markdown",
   "metadata": {},
   "source": [
    "Configure behavior of pyplot for nicer visualization."
   ]
  },
  {
   "cell_type": "code",
   "execution_count": null,
   "metadata": {},
   "outputs": [],
   "source": [
    "%matplotlib notebook\n",
    "plt.rcParams[\"image.cmap\"] = \"gray\"\n",
    "plt.rcParams[\"image.interpolation\"] = None"
   ]
  },
  {
   "cell_type": "markdown",
   "metadata": {},
   "source": [
    "Load venice.jpg image using imread and normalize it to (0, 1)\n"
   ]
  },
  {
   "cell_type": "code",
   "execution_count": null,
   "metadata": {
    "scrolled": true
   },
   "outputs": [],
   "source": [
    "img = ???"
   ]
  },
  {
   "cell_type": "markdown",
   "metadata": {},
   "source": [
    "Plot the image before applying the filter"
   ]
  },
  {
   "cell_type": "code",
   "execution_count": null,
   "metadata": {
    "scrolled": false
   },
   "outputs": [],
   "source": [
    "plt.figure()\n",
    "plt.imshow(img)\n",
    "plt.colorbar()\n",
    "plt.tight_layout()"
   ]
  },
  {
   "cell_type": "markdown",
   "metadata": {},
   "source": [
    "Generate a coordinate system with the discrete Fourier transform sample\n",
    "frequencies `u` and `v`. You can use the numpy function linspace to do it\n",
    "manually or `np.fft.fftfreq`. Look up the documentation to get familiar with the\n",
    "parameters of these functions."
   ]
  },
  {
   "cell_type": "code",
   "execution_count": null,
   "metadata": {
    "scrolled": true
   },
   "outputs": [],
   "source": [
    "v = ???\n",
    "u = ???"
   ]
  },
  {
   "cell_type": "markdown",
   "metadata": {},
   "source": [
    "The function `np.meshgrid` creates coordinate arrays for the v and the u\n",
    "coordinates and writes them into vv and uu\n",
    "you can display them with `plt.figure(); plt.imshow(uu); colorbar()` if you\n",
    "want to have a look at them"
   ]
  },
  {
   "cell_type": "code",
   "execution_count": null,
   "metadata": {
    "scrolled": false
   },
   "outputs": [],
   "source": [
    "vv, uu = np.meshgrid(v, u, indexing='ij')\n",
    "\n",
    "plt.figure()\n",
    "plt.imshow(vv)\n",
    "plt.colorbar()\n",
    "\n",
    "\n",
    "plt.figure()\n",
    "plt.imshow(uu)\n",
    "plt.colorbar()"
   ]
  },
  {
   "cell_type": "markdown",
   "metadata": {},
   "source": [
    "Calculate the filter function $L(v, u)$.\n",
    "If you want to do this in one line use vv and uu, as they are both of the\n",
    "image shape. The formula is given in the very top documentation of this\n",
    "script. Check if `L` has the same shape as the image."
   ]
  },
  {
   "cell_type": "code",
   "execution_count": null,
   "metadata": {
    "scrolled": false
   },
   "outputs": [],
   "source": [
    "L = ???\n",
    "\n",
    "plt.figure()\n",
    "plt.imshow(np.fft.fftshift(L))\n",
    "plt.colorbar()"
   ]
  },
  {
   "cell_type": "markdown",
   "metadata": {},
   "source": [
    "Calculate the Fourier transform of the image\n",
    "You can use the numpy function `fft2` included in  [np.fft](https://docs.scipy.org/doc/numpy/reference/routines.fft.html)"
   ]
  },
  {
   "cell_type": "code",
   "execution_count": null,
   "metadata": {
    "scrolled": false
   },
   "outputs": [],
   "source": [
    "img_ft = ???\n",
    "print(img_ft.shape)\n",
    "\n",
    "plt.figure()\n",
    "plt.imshow(np.fft.fftshift(np.log(np.abs(img_ft))))"
   ]
  },
  {
   "cell_type": "markdown",
   "metadata": {},
   "source": [
    "Multiply the Fourier transform of the image by the filter function.\n",
    "Take care (if neccessary) to center the potential function $L$ around the top\n",
    "left corner of the image, because Fourier transforms in Python always have\n",
    "the \"central\" frequencies $(0, 0)$ in the top left corner. Therefore, play with the\n",
    "function np.fft.fftshift (and ifftshift) to see what it does. Check out the looks of\n",
    "the shifted and unshifted potential function $L$.\n",
    "\n",
    "Take the inverse Fourier transform of the product to get the filtered image\n",
    "and select the real part of it, as we do not want to have the imaginary part of real images."
   ]
  },
  {
   "cell_type": "code",
   "execution_count": null,
   "metadata": {
    "scrolled": false
   },
   "outputs": [],
   "source": [
    "img_filtered = ???\n",
    "\n",
    "plt.figure()\n",
    "plt.imshow(img_filtered, vmin=-1.0, vmax=1.0)\n",
    "plt.colorbar()"
   ]
  }
 ],
 "metadata": {
  "kernelspec": {
   "display_name": "Python 3",
   "language": "python",
   "name": "python3"
  },
  "language_info": {
   "codemirror_mode": {
    "name": "ipython",
    "version": 3
   },
   "file_extension": ".py",
   "mimetype": "text/x-python",
   "name": "python",
   "nbconvert_exporter": "python",
   "pygments_lexer": "ipython3",
   "version": "3.7.3"
  }
 },
 "nbformat": 4,
 "nbformat_minor": 2
}
