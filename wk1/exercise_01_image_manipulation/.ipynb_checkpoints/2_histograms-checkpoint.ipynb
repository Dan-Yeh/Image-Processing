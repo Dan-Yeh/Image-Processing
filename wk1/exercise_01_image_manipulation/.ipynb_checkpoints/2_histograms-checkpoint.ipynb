{
 "cells": [
  {
   "cell_type": "markdown",
   "metadata": {},
   "source": [
    "9.11.2020\n",
    "# Using NumPy, matplotlib and SciPy\n",
    "## Tutorial 1, Exercise 2: Histograms, noise and filtering\n",
    "The goal of this exercise is for you to **become familiar with the important packages NumPy, matplotlib and SciPy**.\n",
    "Here you will load an image, add noise and look at the histograms of the different color channels.\n",
    "You need to replace the `???` in the code with the required commands.\n",
    "\n",
    "Your task is to calculate histograms of an image, add noise to it,\n",
    "and apply a low-pass filter."
   ]
  },
  {
   "cell_type": "markdown",
   "metadata": {},
   "source": [
    "## Part 1: Loading the image and analyzing the color channels"
   ]
  },
  {
   "cell_type": "code",
   "execution_count": 1,
   "metadata": {},
   "outputs": [],
   "source": [
    "import numpy as np\n",
    "import matplotlib.pyplot as plt\n",
    "import scipy.ndimage as nd"
   ]
  },
  {
   "cell_type": "markdown",
   "metadata": {},
   "source": [
    "Use ``plt.imread`` to read in ``'bears.jpg'`` and save the color channels into separate NumPy arrays. Check the image dimensions before and after splitting the colors with with the ``shape`` attribute of ``img``, red, green, and blue.\n",
    "``img`` should be a 3D array and the colors a 2D array, respectively."
   ]
  },
  {
   "cell_type": "code",
   "execution_count": 2,
   "metadata": {},
   "outputs": [],
   "source": [
    "img = plt.imread(\"bears.jpg\") / 255.  # Division to norm to an interval [0, 1]\n",
    "sh = img.shape"
   ]
  },
  {
   "cell_type": "code",
   "execution_count": null,
   "metadata": {},
   "outputs": [],
   "source": []
  },
  {
   "cell_type": "markdown",
   "metadata": {},
   "source": [
    "Select red, green, and blue channels:"
   ]
  },
  {
   "cell_type": "code",
   "execution_count": null,
   "metadata": {},
   "outputs": [],
   "source": [
    "red_channel = img[???]\n",
    "green_channel = img[???]\n",
    "blue_channel = img[???]"
   ]
  },
  {
   "cell_type": "code",
   "execution_count": null,
   "metadata": {},
   "outputs": [],
   "source": [
    "print(sh, red_channel.shape, green_channel.shape, blue_channel.shape)"
   ]
  },
  {
   "cell_type": "markdown",
   "metadata": {},
   "source": [
    "Display the original and the three color channels in an array of subplots.\n",
    "Therefore, open a figure with ``plt.figure()`` and use ``plt.subplot(...)`` to plot\n",
    "them in a $2 \\times 2$ array. To use the function correctly, look up the help by\n",
    "typing ``plt.subplot?`` in the ipython console or ``help(plt.subplot)`` in Python."
   ]
  },
  {
   "cell_type": "code",
   "execution_count": null,
   "metadata": {},
   "outputs": [],
   "source": [
    "plt.figure(1, figsize=(8,8))\n",
    "plt.subplot(2, 2, 1)\n",
    "plt.imshow(img)\n",
    "plt.title('Color image')\n",
    "plt.subplot(2, 2, 2)\n",
    "plt.imshow(red_channel, cmap='gray')\n",
    "plt.title('Red channel')\n",
    "plt.subplot(2, 2, 3)\n",
    "plt.imshow(green_channel, cmap='gray')\n",
    "plt.title('Green channel')\n",
    "plt.subplot(2, 2, 4)\n",
    "plt.imshow(blue_channel, cmap='gray')\n",
    "plt.title('Blue channel');"
   ]
  },
  {
   "cell_type": "markdown",
   "metadata": {},
   "source": [
    "Create the histograms of the three color channels separately\n",
    "using the ``np.histogram`` function. Use 50 bins and a range of ``(0, 1)``.\n",
    "Afterwards, plot them into one histogram line plot. Keep in mind that\n",
    "``np.histograms`` returns left and right bin margins. Therefore, you will need\n",
    "to create the central bin positions by yourself!"
   ]
  },
  {
   "cell_type": "code",
   "execution_count": null,
   "metadata": {},
   "outputs": [],
   "source": [
    "red_hist = ???\n",
    "green_hist = ???\n",
    "blue_hist = ???"
   ]
  },
  {
   "cell_type": "markdown",
   "metadata": {},
   "source": [
    "In case you do not know how to do the last part look at the lower parts of\n",
    "the script. The lines before will appear again in a similar fashion.\n"
   ]
  },
  {
   "cell_type": "code",
   "execution_count": null,
   "metadata": {},
   "outputs": [],
   "source": [
    "red_bins = red_hist[1]\n",
    "central_bins = (red_bins[1:] + red_bins[:-1]) / 2."
   ]
  },
  {
   "cell_type": "code",
   "execution_count": null,
   "metadata": {},
   "outputs": [],
   "source": [
    "plt.figure(2)\n",
    "plt.title('Histograms of 3 color channels')\n",
    "plt.plot(central_bins, blue_hist[0], 'b', label='blue')\n",
    "plt.plot(central_bins, green_hist[0], 'g', label='green')\n",
    "plt.plot(central_bins, red_hist[0], 'r', label='red')\n",
    "plt.grid()\n",
    "plt.legend()"
   ]
  },
  {
   "cell_type": "markdown",
   "metadata": {},
   "source": [
    "It is more appropriate to use a bar graph instead of a normal plot for histograms. The ``plt.bar`` function takes the width of each bar as a third parameter:"
   ]
  },
  {
   "cell_type": "code",
   "execution_count": null,
   "metadata": {},
   "outputs": [],
   "source": [
    "bin_width = red_bins[1] - red_bins[0]"
   ]
  },
  {
   "cell_type": "code",
   "execution_count": null,
   "metadata": {},
   "outputs": [],
   "source": [
    "plt.figure(3)\n",
    "plt.title('Histograms of 3 color channels')\n",
    "plt.bar(central_bins, blue_hist[0], bin_width, color='b', label='blue', alpha=.4)\n",
    "plt.bar(central_bins, green_hist[0], bin_width, color='g', label='green', alpha=.4)\n",
    "plt.bar(central_bins, red_hist[0], bin_width, color='r', label='red', alpha=.4)\n",
    "plt.grid()\n",
    "plt.legend()\n"
   ]
  },
  {
   "cell_type": "markdown",
   "metadata": {},
   "source": [
    "## Part 2: Adding noise to the image"
   ]
  },
  {
   "cell_type": "markdown",
   "metadata": {},
   "source": [
    "Now, let's add some **Gaussian noise** with a standard deviation of 0.2 and a mean of zero to the image with the function\n",
    "``np.random.normal``:"
   ]
  },
  {
   "cell_type": "code",
   "execution_count": null,
   "metadata": {},
   "outputs": [],
   "source": [
    "img_noisy = img + ???"
   ]
  },
  {
   "cell_type": "markdown",
   "metadata": {},
   "source": [
    "Note, that values below 0. and above 1. wrap around on the color scale\n",
    "Therefore, they have to be set back to 0. or 1. respectively\n",
    "Hint: The coordinates to index the array can also be a boolean array of the\n",
    "same shape. So, if you want to select all pixels with a value smaller\n",
    "than 0, you can use ``img_noisy < 0``."
   ]
  },
  {
   "cell_type": "code",
   "execution_count": null,
   "metadata": {},
   "outputs": [],
   "source": [
    "img_noisy[???] = 0.\n",
    "img_noisy[???] = 1."
   ]
  },
  {
   "cell_type": "code",
   "execution_count": null,
   "metadata": {},
   "outputs": [],
   "source": [
    "plt.figure(4)\n",
    "plt.title('Noisy image')\n",
    "plt.imshow(img_noisy, cmap='gray', vmin=0, vmax=1.)"
   ]
  },
  {
   "cell_type": "code",
   "execution_count": null,
   "metadata": {},
   "outputs": [],
   "source": [
    "red_hist_noisy = np.histogram(img_noisy[..., 0], bins=50, range=(0, 1))\n",
    "green_hist_noisy = np.histogram(img_noisy[..., 1], bins=50, range=(0, 1))\n",
    "blue_hist_noisy = np.histogram(img_noisy[..., 2], bins=50, range=(0, 1))"
   ]
  },
  {
   "cell_type": "code",
   "execution_count": null,
   "metadata": {},
   "outputs": [],
   "source": [
    "plt.figure(5)\n",
    "plt.title('Histograms of 3 noisy color channels')\n",
    "plt.bar(central_bins, blue_hist_noisy[0], bin_width, color='b', alpha=.4, label='blue')\n",
    "plt.bar(central_bins, green_hist_noisy[0], bin_width, color='g', alpha=.4, label='green')\n",
    "plt.bar(central_bins, red_hist_noisy[0], bin_width, color='r', alpha=.4, label='red')\n",
    "plt.grid()\n",
    "plt.legend()"
   ]
  },
  {
   "cell_type": "markdown",
   "metadata": {},
   "source": [
    "## Part 3: Applying a Gaussian low-pass filter"
   ]
  },
  {
   "cell_type": "markdown",
   "metadata": {},
   "source": [
    "After adding noise, we want to (partially) remove it again by **Gaussian filtering**.\n",
    "Therefore, the function ``gaussian_filter`` of the ``nd.filter`` module can be used.\n",
    "Apply the filter with a filter kernel size of ``sigma=1``.\n",
    "You can either filter each image band separately or give a list of sigmas\n",
    "(one for each dimension) and make sure that you do not filter across color\n",
    "channels with a zero at the right place.\n",
    "\n",
    "The ``0`` in the last axis means that we do not mix different color channels of the image."
   ]
  },
  {
   "cell_type": "code",
   "execution_count": null,
   "metadata": {},
   "outputs": [],
   "source": [
    "nd.filters.gaussian_filter?"
   ]
  },
  {
   "cell_type": "code",
   "execution_count": null,
   "metadata": {},
   "outputs": [],
   "source": [
    "sigma = (1, 1, 0)\n",
    "img_filtered = nd.filters.gaussian_filter(???)"
   ]
  },
  {
   "cell_type": "code",
   "execution_count": null,
   "metadata": {},
   "outputs": [],
   "source": [
    "plt.figure(6)\n",
    "plt.title('Filtered image')\n",
    "plt.imshow(img_filtered, cmap='gray', vmin=0, vmax=1.)"
   ]
  },
  {
   "cell_type": "markdown",
   "metadata": {},
   "source": [
    "Finally, let's look at the histograms again:"
   ]
  },
  {
   "cell_type": "code",
   "execution_count": null,
   "metadata": {},
   "outputs": [],
   "source": [
    "red_hist_filtered = np.histogram(img_filtered[..., 0], bins=50, range=(0, 1))\n",
    "green_hist_filtered = np.histogram(img_filtered[..., 1], bins=50, range=(0, 1))\n",
    "blue_hist_filtered = np.histogram(img_filtered[..., 2], bins=50, range=(0, 1))"
   ]
  },
  {
   "cell_type": "code",
   "execution_count": null,
   "metadata": {},
   "outputs": [],
   "source": [
    "plt.figure(7)\n",
    "plt.title('Histograms of 3 color channels')\n",
    "plt.bar(central_bins, blue_hist_filtered[0], bin_width, color='b', label='blue', alpha=.4)\n",
    "plt.bar(central_bins, green_hist_filtered[0], bin_width, color='g', label='green', alpha=.4)\n",
    "plt.bar(central_bins, red_hist_filtered[0], bin_width, color='r', label='red', alpha=.4)\n",
    "plt.grid()\n",
    "plt.legend()"
   ]
  }
 ],
 "metadata": {
  "kernelspec": {
   "display_name": "Python 3",
   "language": "python",
   "name": "python3"
  },
  "language_info": {
   "codemirror_mode": {
    "name": "ipython",
    "version": 3
   },
   "file_extension": ".py",
   "mimetype": "text/x-python",
   "name": "python",
   "nbconvert_exporter": "python",
   "pygments_lexer": "ipython3",
   "version": "3.7.3"
  }
 },
 "nbformat": 4,
 "nbformat_minor": 2
}
