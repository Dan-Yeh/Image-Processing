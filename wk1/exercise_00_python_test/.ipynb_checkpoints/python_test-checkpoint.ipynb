{
 "cells": [
  {
   "cell_type": "markdown",
   "metadata": {},
   "source": [
    "**Imaging Processing in Physics: Tutorial 00**   \n",
    "*Julia Herzen, Klaus Achternhold, Clemens Schmid, Manuel Schultheiss*   \n",
    "*4.11.2020*\n",
    "\n",
    "## Using `numpy`, `scipy` and `matplotlib`\n",
    "\n",
    "The goal of this notebook is just to verify that Python is installed correctly: that you can load and plot an image successfully using the Python libraries `numpy` (for n-dimensional array manipulations), scipy (for image processing) and matplotlib (for matlab-like plotting and visualization)."
   ]
  },
  {
   "cell_type": "markdown",
   "metadata": {},
   "source": [
    "We import the packages at the very beginning of the notebook."
   ]
  },
  {
   "cell_type": "code",
   "execution_count": null,
   "metadata": {},
   "outputs": [],
   "source": [
    "import numpy as np\n",
    "import matplotlib.pyplot as plt\n",
    "import scipy.ndimage as nd"
   ]
  },
  {
   "cell_type": "markdown",
   "metadata": {},
   "source": [
    "Use `plt.imread` to read in \"bears.jpg\" as a numpy array. Check the shape and show it."
   ]
  },
  {
   "cell_type": "code",
   "execution_count": null,
   "metadata": {
    "scrolled": true
   },
   "outputs": [],
   "source": [
    "img = plt.imread(\"bears.jpg\")\n",
    "print(img.shape)\n",
    "\n",
    "plt.figure(1)\n",
    "plt.imshow(img)"
   ]
  },
  {
   "cell_type": "markdown",
   "metadata": {},
   "source": [
    "It is an RBG image with shape (y, x, color). To select the red channel, select the 0th index along the last axis. Show the red channel as a B/W image."
   ]
  },
  {
   "cell_type": "code",
   "execution_count": null,
   "metadata": {},
   "outputs": [],
   "source": [
    "img_red = img[:, :, 0]\n",
    "\n",
    "plt.figure(2)\n",
    "plt.imshow(img_red, cmap=\"gray\")\n",
    "plt.colorbar()"
   ]
  },
  {
   "cell_type": "markdown",
   "metadata": {},
   "source": [
    "Use a gaussian filter from `scipy.ndimage` to smoothen the red channel."
   ]
  },
  {
   "cell_type": "code",
   "execution_count": null,
   "metadata": {},
   "outputs": [],
   "source": [
    "img_gauss = nd.gaussian_filter(img_red, 3.0)\n",
    "\n",
    "plt.figure(3)\n",
    "plt.imshow(img_gauss, cmap=\"gray\")\n",
    "plt.colorbar()"
   ]
  },
  {
   "cell_type": "markdown",
   "metadata": {},
   "source": [
    "If you saw three images (color, gray, smooth) then your Python installation should be working! "
   ]
  }
 ],
 "metadata": {
  "kernelspec": {
   "display_name": "Python 3",
   "language": "python",
   "name": "python3"
  },
  "language_info": {
   "codemirror_mode": {
    "name": "ipython",
    "version": 3
   },
   "file_extension": ".py",
   "mimetype": "text/x-python",
   "name": "python",
   "nbconvert_exporter": "python",
   "pygments_lexer": "ipython3",
   "version": "3.9.0"
  }
 },
 "nbformat": 4,
 "nbformat_minor": 2
}
